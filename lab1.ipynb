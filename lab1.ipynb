{
 "cells": [
  {
   "cell_type": "code",
   "execution_count": 10,
   "id": "40a5ff7d-e0a8-4835-b111-f27d59530191",
   "metadata": {},
   "outputs": [],
   "source": [
    "import tkinter as tk\n",
    "\n",
    "def draw_triangle(canvas, points, depth):\n",
    "    \"\"\"Рисует треугольник Серпинского до заданной глубины.\"\"\"\n",
    "    if depth == 0:\n",
    "        # рисуем заполненный треугольник\n",
    "        canvas.create_polygon(points, fill='black', outline='white')\n",
    "        return\n",
    "\n",
    "    # вычисляем средние точки сторон\n",
    "    x1, y1 = points[0]\n",
    "    x2, y2 = points[1]\n",
    "    x3, y3 = points[2]\n",
    "\n",
    "    mid12 = ((x1 + x2) / 2, (y1 + y2) / 2) # середина стороны между вершинами 1 и 2\n",
    "    mid23 = ((x2 + x3) / 2, (y2 + y3) / 2)\n",
    "    mid31 = ((x3 + x1) / 2, (y3 + y1) / 2)\n",
    "\n",
    "    # Рекурсивно рисуем 3 меньших треугольника\n",
    "    draw_triangle(canvas, [points[0], mid12, mid31], depth - 1)\n",
    "    draw_triangle(canvas, [mid12, points[1], mid23], depth - 1)\n",
    "    draw_triangle(canvas, [mid31, mid23, points[2]], depth - 1)\n",
    "\n",
    "def main():\n",
    "    root = tk.Tk()\n",
    "    root.title(\"Треугольник Серпинского\")\n",
    "\n",
    "    size = 600  # размер окна\n",
    "    canvas = tk.Canvas(root, width=size, height=size, bg='white')\n",
    "    canvas.pack()\n",
    "\n",
    "    # координаты большого треугольника\n",
    "    points = [(size / 2, 20), (20, size - 20), (size - 20, size - 20)]\n",
    "\n",
    "    # глубина рекурсии (количество итераций)\n",
    "    depth = 7\n",
    "\n",
    "    draw_triangle(canvas, points, depth)\n",
    "\n",
    "    root.mainloop()\n",
    "\n",
    "if __name__ == \"__main__\":\n",
    "    main()"
   ]
  },
  {
   "cell_type": "code",
   "execution_count": null,
   "id": "6c17b984-4aba-40b8-a225-be6e7262e28a",
   "metadata": {},
   "outputs": [],
   "source": []
  }
 ],
 "metadata": {
  "kernelspec": {
   "display_name": "Python 3 (ipykernel)",
   "language": "python",
   "name": "python3"
  },
  "language_info": {
   "codemirror_mode": {
    "name": "ipython",
    "version": 3
   },
   "file_extension": ".py",
   "mimetype": "text/x-python",
   "name": "python",
   "nbconvert_exporter": "python",
   "pygments_lexer": "ipython3",
   "version": "3.14.0"
  }
 },
 "nbformat": 4,
 "nbformat_minor": 5
}
